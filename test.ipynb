{
 "cells": [
  {
   "cell_type": "code",
   "execution_count": 175,
   "metadata": {
    "collapsed": false
   },
   "outputs": [],
   "source": [
    "import pandas as pd"
   ]
  },
  {
   "cell_type": "code",
   "execution_count": 176,
   "metadata": {
    "collapsed": true
   },
   "outputs": [],
   "source": [
    "def general_analysis(file):\n",
    "    #Create Pandas Series\n",
    "    f = pd.read_csv(file)\n",
    "    \n",
    "    #add dummy columns for thedevice and themodule (if applicable) to add up.\n",
    "    f = f.join(pd.get_dummies(f['thedevice']))\n",
    "    return f"
   ]
  },
  {
   "cell_type": "code",
   "execution_count": 177,
   "metadata": {
    "collapsed": true
   },
   "outputs": [],
   "source": [
    "def create_row(file, rowname):\n",
    "    file[rowname] = pd.DataFrame([0 for x in range(len(file.index))])"
   ]
  },
  {
   "cell_type": "code",
   "execution_count": 184,
   "metadata": {
    "collapsed": true
   },
   "outputs": [],
   "source": [
    "def sums(file):\n",
    "    return file.sum()\n",
    "\n",
    "def shape(file):\n",
    "    return file.shape"
   ]
  },
  {
   "cell_type": "code",
   "execution_count": 183,
   "metadata": {
    "collapsed": true
   },
   "outputs": [],
   "source": [
    "# Computes Pearson correlation between two columns of a file.\n",
    "def correlation(file, col1, col2):\n",
    "    return file[col1].corr(file[col2])"
   ]
  },
  {
   "cell_type": "code",
   "execution_count": 178,
   "metadata": {
    "collapsed": false
   },
   "outputs": [],
   "source": [
    "def wl_test_analysis(f):\n",
    "    '''\n",
    "    Add login_normal to check if user logged in or created account w/o social media\n",
    "    Add sm to check if user created account with Facebook or Google.\n",
    "    Add falselogin for when user probably clicked on social media option, but \n",
    "    did not follow through.\n",
    "    This is impossible to check for non-sm option, since false login and never trying to\n",
    "    create an account both result in 0.\n",
    "    Do search for login with F, G, and false logins to be device specific as well.\n",
    "    '''\n",
    "    create_row(f, 'C')\n",
    "    create_row(f, 'L')\n",
    "    create_row(f, 'signin_count')\n",
    "    # login is anytime someone logged in or created account. login = reg_success for co data.\n",
    "    create_row(f, 'login')\n",
    "    create_row(f, 'desktoplogin')\n",
    "    create_row(f, 'mobilelogin')\n",
    "    create_row(f, 'tabletlogin')\n",
    "    create_row(f, 'login_normal')\n",
    "    create_row(f, 'sm')\n",
    "    create_row(f, 'falselogin')\n",
    "    create_row(f, 'desktopg')\n",
    "    create_row(f, 'desktopf')\n",
    "    create_row(f, 'desktopnormal')\n",
    "    create_row(f, 'desktop_falselogin')\n",
    "    create_row(f, 'mobileg')\n",
    "    create_row(f, 'mobilef')\n",
    "    create_row(f, 'mobilenormal')\n",
    "    create_row(f, 'mobile_falselogin')\n",
    "    create_row(f, 'tabletg')\n",
    "    create_row(f, 'tabletf')\n",
    "    create_row(f, 'tabletnormal')\n",
    "    create_row(f, 'tablet_falselogin')\n",
    "    \n",
    "    for i in range(len(f.index)):\n",
    "        letters = f.at[i, 'login_or_create'].split(',')\n",
    "        \n",
    "        if 'C' in letters:\n",
    "            f.at[i, 'C'] += 1\n",
    "        if 'L' in letters:\n",
    "            f.at[i, 'L'] += 1\n",
    "        for letter in letters:\n",
    "            if letter == 'L':\n",
    "                f.at[i, 'signin_count'] += 1\n",
    "        \n",
    "        if 'C' in letters or 'L' in letters:\n",
    "            f.at[i, 'login'] += 1\n",
    "\n",
    "            if f.at[i, 'DESKTOP'] == 1:\n",
    "                f.at[i, 'desktoplogin'] += 1 \n",
    "            elif f.at[i, 'MOBILE'] == 1:\n",
    "                f.at[i, 'mobilelogin'] += 1 \n",
    "            elif f.at[i, 'TABLET'] == 1:\n",
    "                f.at[i, 'tabletlogin'] += 1\n",
    "                \n",
    "            if f.at[i, '0'] == 1:\n",
    "                f.at[i, 'login_normal'] += 1\n",
    "                if f.at[i, 'DESKTOP'] == 1:\n",
    "                    f.at[i, 'desktopnormal'] += 1 \n",
    "                elif f.at[i, 'MOBILE'] == 1:\n",
    "                    f.at[i, 'mobilenormal'] += 1 \n",
    "                elif f.at[i, 'TABLET'] == 1:\n",
    "                    f.at[i, 'tabletnormal'] += 1 \n",
    "        \n",
    "        user_check = f.at[i, 'isloggedin_r'].split(',')\n",
    "        for event in user_check:\n",
    "            if event == 'user':\n",
    "                f.at[i, 'signin_count'] += 1\n",
    "                    \n",
    "            if f.at[i, 'themodule'] == 'F' or f.at[i, 'themodule'] == 'G':\n",
    "                f.at[i, 'sm'] += 1 \n",
    "\n",
    "                if f.at[i, 'themodule'] == 'F' and f.at[i, 'DESKTOP'] == 1:\n",
    "                    f.at[i, 'desktopf'] += 1 \n",
    "                elif f.at[i, 'themodule'] == 'G' and f.at[i, 'DESKTOP'] == 1:\n",
    "                    f.at[i, 'desktopg'] += 1 \n",
    "                elif f.at[i, 'themodule'] == 'F' and f.at[i, 'MOBILE'] == 1:\n",
    "                    f.at[i, 'mobilef'] += 1 \n",
    "                elif f.at[i, 'themodule'] == 'G' and f.at[i, 'MOBILE'] == 1:\n",
    "                    f.at[i, 'mobileg'] += 1 \n",
    "                elif f.at[i, 'themodule'] == 'F' and f.at[i, 'TABLET'] == 1:\n",
    "                    f.at[i, 'tabletf'] += 1 \n",
    "                elif f.at[i, 'themodule'] == 'G' and f.at[i, 'TABLET'] == 1:\n",
    "                    f.at[i, 'tabletg'] += 1\n",
    "        else:\n",
    "            if f.at[i, 'themodule'] == 'F' or f.at[i, 'themodule'] == 'G':\n",
    "                f.at[i, 'falselogin'] += 1\n",
    "                if f.at[i, 'DESKTOP'] == 1:\n",
    "                    f.at[i, 'desktop_falselogin'] += 1\n",
    "                if f.at[i, 'TABLET'] == 1:\n",
    "                    f.at[i, 'tablet_falselogin'] += 1\n",
    "                if f.at[i, 'MOBILE'] == 1:\n",
    "                    f.at[i, 'mobile_falselogin'] += 1 \n",
    "    \n",
    "    # Return data as a Pandas Series, inclusive of all dummy columns necessary to quickly do analysis.\n",
    "    return f\n"
   ]
  },
  {
   "cell_type": "code",
   "execution_count": 179,
   "metadata": {
    "collapsed": false
   },
   "outputs": [],
   "source": [
    "def co_test_analysis(f):\n",
    "    # Same notes and labeling as wl_test_analysis\n",
    "    create_row(f, 'sm')\n",
    "    create_row(f, 'login_normal')\n",
    "    # Still social media specific, impossible to tell with normal login vs no login.\n",
    "    create_row(f, 'falselogin')\n",
    "    create_row(f, 'desktop_login')\n",
    "    create_row(f, 'desktopg')\n",
    "    create_row(f, 'desktopf')\n",
    "    create_row(f, 'desktopnormal')\n",
    "    create_row(f, 'mobile_login')\n",
    "    create_row(f, 'mobileg')\n",
    "    create_row(f, 'mobilef')\n",
    "    create_row(f, 'mobilenormal')\n",
    "    create_row(f, 'tablet_login')\n",
    "    create_row(f, 'tabletg')\n",
    "    create_row(f, 'tabletf')\n",
    "    create_row(f, 'tabletnormal')\n",
    "    \n",
    "    for i in range(len(f.index)):\n",
    "        if (f.at[i, 'themodule'] == 'F' or f.at[i, 'themodule'] == 'G') and f.at[i, 'reg_success'] == 1:\n",
    "            f.at[i, 'sm'] += 1 \n",
    "        elif (f.at[i, 'themodule'] == 'F' or f.at[i, 'themodule'] == 'G') and f.at[i, 'reg_success'] == 0:\n",
    "            f.at[i, 'falselogin'] += 1 \n",
    "        if (f.at[i, 'themodule'] == '0') and f.at[i, 'reg_success'] == 1:\n",
    "            f.at[i, 'login_normal'] += 1 \n",
    "        \n",
    "        if f.at[i, 'reg_success'] == 1 and f.at[i, 'DESKTOP'] == 1:\n",
    "            f.at[i, 'desktop_login'] += 1\n",
    "        elif f.at[i, 'reg_success'] == 1 and f.at[i, 'MOBILE'] == 1:\n",
    "            f.at[i, 'mobile_login'] += 1\n",
    "        elif f.at[i, 'reg_success'] == 1 and f.at[i, 'TABLET'] == 1:\n",
    "            f.at[i, 'tablet_login'] += 1\n",
    "        if f.at[i, 'themodule'] == 'F' and f.at[i, 'DESKTOP'] == 1:\n",
    "            f.at[i, 'desktopf'] += 1 \n",
    "        elif f.at[i, 'themodule'] == 'G' and f.at[i, 'DESKTOP'] == 1:\n",
    "            f.at[i, 'desktopg'] += 1 \n",
    "        elif f.at[i, 'themodule'] == '0' and f.at[i, 'DESKTOP'] == 1:\n",
    "            f.at[i, 'desktopnormal'] += 1\n",
    "        elif f.at[i, 'themodule'] == 'F' and f.at[i, 'MOBILE'] == 1:\n",
    "            f.at[i, 'mobilef'] += 1 \n",
    "        elif f.at[i, 'themodule'] == 'G' and f.at[i, 'MOBILE'] == 1:\n",
    "            f.at[i, 'mobileg'] += 1 \n",
    "        elif f.at[i, 'themodule'] == '0' and f.at[i, 'MOBILE'] == 1:\n",
    "            f.at[i, 'mobilenormal'] += 1\n",
    "        elif f.at[i, 'themodule'] == 'F' and f.at[i, 'TABLET'] == 1:\n",
    "            f.at[i, 'tabletf'] += 1 \n",
    "        elif f.at[i, 'themodule'] == 'G' and f.at[i, 'TABLET'] == 1:\n",
    "            f.at[i, 'tabletg'] += 1 \n",
    "        elif f.at[i, 'themodule'] == '0' and f.at[i, 'TABLET'] == 1:\n",
    "            f.at[i, 'tabletnormal'] += 1\n",
    "            \n",
    "    return f"
   ]
  },
  {
   "cell_type": "code",
   "execution_count": 180,
   "metadata": {
    "collapsed": false
   },
   "outputs": [],
   "source": [
    "def wl_general_analysis(f):\n",
    "    '''\n",
    "    Add column C to check if the user created account\n",
    "    Add column L to check how many time the user logged in\n",
    "    Add column signin_count to see how many events involved logging in or already being signed in\n",
    "    login_total check if user was ever signed in at all, regardless of how. \n",
    "    Though some of these exact rows were created in in wl_test_analysis, I did not want to run\n",
    "    the for loop an extra time by running this function on the test csv. \n",
    "    Same for co_general_analysis.\n",
    "    '''\n",
    "    create_row(f, 'C')\n",
    "    create_row(f, 'L')\n",
    "    create_row(f, 'signin_count')\n",
    "    # login is anytime someone logged in or created account. login = reg_success for co data.\n",
    "    create_row(f, 'login')\n",
    "    create_row(f, 'desktoplogin')\n",
    "    create_row(f, 'mobilelogin')\n",
    "    create_row(f, 'tabletlogin')\n",
    "    \n",
    "    for i in range(len(f.index)):\n",
    "        letters = f.at[i, 'login_or_create'].split(',')\n",
    "        if 'C' in letters:\n",
    "            f.at[i, 'C'] += 1\n",
    "        if 'L' in letters:\n",
    "            f.at[i, 'L'] += 1\n",
    "        for letter in letters:\n",
    "            if letter == 'L':\n",
    "                f.at[i, 'signin_count'] += 1\n",
    "        if 'C' in letters or 'L' in letters:\n",
    "            f.at[i, 'login'] += 1\n",
    "\n",
    "            if f.at[i, 'DESKTOP'] == 1:\n",
    "                f.at[i, 'desktoplogin'] += 1 \n",
    "            elif f.at[i, 'MOBILE'] == 1:\n",
    "                f.at[i, 'mobilelogin'] += 1 \n",
    "            elif f.at[i, 'TABLET'] == 1:\n",
    "                f.at[i, 'tabletlogin'] += 1\n",
    "                    \n",
    "        user_check = f.at[i, 'isloggedin_r'].split(',')\n",
    "        for event in user_check:\n",
    "            if event == 'user':\n",
    "                f.at[i, 'signin_count'] += 1\n",
    "                    \n",
    "    return f"
   ]
  },
  {
   "cell_type": "code",
   "execution_count": 181,
   "metadata": {
    "collapsed": true
   },
   "outputs": [],
   "source": [
    "def co_general_analysis(f):\n",
    "    # Same notes and labeling as wl_general_analysis\n",
    "    create_row(f, 'desktop_login')\n",
    "    create_row(f, 'mobile_login')\n",
    "    create_row(f, 'tablet_login')\n",
    "    \n",
    "    for i in range(len(f.index)):\n",
    "        if f.at[i, 'reg_success'] == 1 and f.at[i, 'DESKTOP'] == 1:\n",
    "            f.at[i, 'desktop_login'] += 1\n",
    "        elif f.at[i, 'reg_success'] == 1 and f.at[i, 'MOBILE'] == 1:\n",
    "            f.at[i, 'mobile_login'] += 1\n",
    "        elif f.at[i, 'reg_success'] == 1 and f.at[i, 'TABLET'] == 1:\n",
    "            f.at[i, 'tablet_login'] += 1\n",
    "    \n",
    "    return f"
   ]
  },
  {
   "cell_type": "code",
   "execution_count": 197,
   "metadata": {
    "collapsed": false
   },
   "outputs": [
    {
     "name": "stdout",
     "output_type": "stream",
     "text": [
      "eventcount       5816\n",
      "reg_success       446\n",
      "DESKTOP          2296\n",
      "MOBILE            695\n",
      "TABLET            352\n",
      "desktop_login     361\n",
      "mobile_login       45\n",
      "tablet_login       40\n",
      "dtype: float64\n",
      "(3345, 12)\n"
     ]
    }
   ],
   "source": [
    "f = general_analysis('after_co.csv')\n",
    "co_after = co_general_analysis(f)\n",
    "print(sums(co_after))\n",
    "# Number of users in test is first part of tuple.\n",
    "print(shape(co_after))"
   ]
  },
  {
   "cell_type": "code",
   "execution_count": 189,
   "metadata": {
    "collapsed": false
   },
   "outputs": [
    {
     "name": "stdout",
     "output_type": "stream",
     "text": [
      "eventcount       24412\n",
      "reg_success       1921\n",
      "DESKTOP           8978\n",
      "MOBILE            2897\n",
      "TABLET            1613\n",
      "desktop_login     1520\n",
      "mobile_login       200\n",
      "tablet_login       201\n",
      "dtype: float64\n",
      "(13491, 12)\n"
     ]
    }
   ],
   "source": [
    "f = general_analysis('before_co.csv')\n",
    "co_before = co_general_analysis(f)\n",
    "print(sums(co_before))\n",
    "# Number of users in test is first part of tuple.\n",
    "print(shape(co_before))"
   ]
  },
  {
   "cell_type": "code",
   "execution_count": 190,
   "metadata": {
    "collapsed": false
   },
   "outputs": [
    {
     "name": "stdout",
     "output_type": "stream",
     "text": [
      "eventcount            15328\n",
      "DESKTOP                1686\n",
      "MOBILE                 1073\n",
      "TABLET                  424\n",
      "0                      2724\n",
      "F                       329\n",
      "G                       134\n",
      "C                       832\n",
      "L                       761\n",
      "signin_count           2987\n",
      "login                  1332\n",
      "desktoplogin            752\n",
      "mobilelogin             433\n",
      "tabletlogin             147\n",
      "login_normal           1012\n",
      "sm                     3093\n",
      "falselogin              463\n",
      "desktopg                528\n",
      "desktopf               1108\n",
      "desktopnormal           565\n",
      "desktop_falselogin      240\n",
      "mobileg                 239\n",
      "mobilef                 833\n",
      "mobilenormal            340\n",
      "mobile_falselogin       164\n",
      "tabletg                 159\n",
      "tabletf                 226\n",
      "tabletnormal            107\n",
      "tablet_falselogin        59\n",
      "dtype: float64\n",
      "(3187, 37)\n"
     ]
    }
   ],
   "source": [
    "f = general_analysis('test_wl.csv')\n",
    "wl_test = wl_test_analysis(f)\n",
    "print(sums(wl_test))\n",
    "# Number of users in test is first part of tuple.\n",
    "print(shape(wl_test))"
   ]
  },
  {
   "cell_type": "code",
   "execution_count": 186,
   "metadata": {
    "collapsed": false
   },
   "outputs": [
    {
     "name": "stdout",
     "output_type": "stream",
     "text": [
      "eventcount       24067\n",
      "reg_success       1040\n",
      "DESKTOP           9875\n",
      "MOBILE            2765\n",
      "TABLET            1775\n",
      "0                14236\n",
      "F                  124\n",
      "G                   67\n",
      "sm                 140\n",
      "login_normal       900\n",
      "falselogin          51\n",
      "desktop_login      795\n",
      "desktopg            47\n",
      "desktopf            82\n",
      "desktopnormal     9746\n",
      "mobile_login       133\n",
      "mobileg             12\n",
      "mobilef             26\n",
      "mobilenormal      2727\n",
      "tablet_login       112\n",
      "tabletg              8\n",
      "tabletf             16\n",
      "tabletnormal      1751\n",
      "dtype: float64\n",
      "(14427, 28)\n"
     ]
    }
   ],
   "source": [
    "f = general_analysis('test_co.csv')\n",
    "co_test = co_test_analysis(f)\n",
    "print(sums(co_test))\n",
    "# Number of users in test is first part of tuple.\n",
    "print(shape(co_test))\n",
    "# Recognize that this could be bias since we don't know of the reg_success that's not SM \n",
    "# if they already had an account before test or not."
   ]
  },
  {
   "cell_type": "code",
   "execution_count": 194,
   "metadata": {
    "collapsed": false
   },
   "outputs": [
    {
     "name": "stdout",
     "output_type": "stream",
     "text": [
      "eventcount      3559\n",
      "DESKTOP          429\n",
      "MOBILE           233\n",
      "TABLET            92\n",
      "C                177\n",
      "L                212\n",
      "signin_count     737\n",
      "login            331\n",
      "desktoplogin     197\n",
      "mobilelogin       96\n",
      "tabletlogin       38\n",
      "dtype: float64\n",
      "(756, 18)\n"
     ]
    }
   ],
   "source": [
    "f = general_analysis('after_wl.csv')\n",
    "wl_after = wl_general_analysis(f)\n",
    "print(sums(wl_after))\n",
    "# Number of users in test is first part of tuple.\n",
    "print(shape(wl_after))"
   ]
  },
  {
   "cell_type": "code",
   "execution_count": null,
   "metadata": {
    "collapsed": true
   },
   "outputs": [],
   "source": []
  },
  {
   "cell_type": "code",
   "execution_count": 196,
   "metadata": {
    "collapsed": false
   },
   "outputs": [
    {
     "name": "stdout",
     "output_type": "stream",
     "text": [
      "_time              2016-02-28T23:32:17.809-05002016-02-28T23:26:5...\n",
      "eventcount                                                     15353\n",
      "firstpage          wishwishwishwishwishwishwishwishwishwishwishwi...\n",
      "theugid            15765b3d1532b34b8456d6015765b3d1532b34b845740f...\n",
      "thedevice          DESKTOPDESKTOPTABLETDESKTOPDESKTOPTABLETMOBILE...\n",
      "isloggedin_r       user by-session,user by-session,user by-sessio...\n",
      "time_hhmmss_r      23:32:17,23:32:17,23:32:1823:26:52,23:26:52,23...\n",
      "login_or_create    N,N,NN,N,NN,N,NN,N,NN,N,N,C,N,N,N,NN,N,NN,N,N,...\n",
      "DESKTOP                                                         1825\n",
      "MOBILE                                                          1120\n",
      "TABLET                                                           377\n",
      "C                                                                877\n",
      "L                                                                812\n",
      "signin_count                                                    3057\n",
      "login                                                           1426\n",
      "desktoplogin                                                     849\n",
      "mobilelogin                                                      451\n",
      "tabletlogin                                                      126\n",
      "dtype: object\n",
      "(3322, 18)\n"
     ]
    }
   ],
   "source": [
    "# Not sure why exact same functions as above are providing extra data here.\n",
    "f = general_analysis('before_wl.csv')\n",
    "wl_before = wl_general_analysis(f)\n",
    "print(sums(wl_before))\n",
    "# Number of users in test is first part of tuple.\n",
    "print(shape(wl_before))"
   ]
  }
 ],
 "metadata": {
  "kernelspec": {
   "display_name": "Python 3",
   "language": "python",
   "name": "python3"
  },
  "language_info": {
   "codemirror_mode": {
    "name": "ipython",
    "version": 3
   },
   "file_extension": ".py",
   "mimetype": "text/x-python",
   "name": "python",
   "nbconvert_exporter": "python",
   "pygments_lexer": "ipython3",
   "version": "3.5.1"
  }
 },
 "nbformat": 4,
 "nbformat_minor": 0
}
